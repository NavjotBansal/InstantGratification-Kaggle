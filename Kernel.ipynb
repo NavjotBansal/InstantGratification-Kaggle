{
 "cells": [
  {
   "cell_type": "code",
   "execution_count": 1,
   "metadata": {},
   "outputs": [],
   "source": [
    "from sklearn import svm,preprocessing\n",
    "from sklearn.model_selection import KFold\n",
    "import pandas as pd\n",
    "import numpy as np"
   ]
  },
  {
   "cell_type": "code",
   "execution_count": 2,
   "metadata": {},
   "outputs": [],
   "source": [
    "data = pd.read_csv('train.csv')\n",
    "le = preprocessing.LabelEncoder()\n",
    "le.fit(data['id'])\n",
    "transformed=le.transform(data['id'])\n",
    "x_train = data\n",
    "y_train = data['target']\n",
    "x_train = x_train.drop(['target'],axis=1)\n",
    "x_train['id']=transformed"
   ]
  },
  {
   "cell_type": "code",
   "execution_count": 3,
   "metadata": {},
   "outputs": [
    {
     "name": "stdout",
     "output_type": "stream",
     "text": [
      "(262144,) (262144, 257)\n"
     ]
    }
   ],
   "source": [
    "from sklearn.model_selection import cross_val_score\n",
    "y_train = data['target']\n",
    "model = svm.SVC(kernel='rbf',gamma=10,C=100,verbose=1)\n",
    "#model.fit(x_train,y_train)\n",
    "from sklearn.model_selection import train_test_split\n",
    "x_train_split=np.array_split(x_train,10)\n",
    "y_train_split=np.array_split(y_train,10)\n",
    "print(y_train.shape,x_train.shape)"
   ]
  },
  {
   "cell_type": "code",
   "execution_count": null,
   "metadata": {},
   "outputs": [
    {
     "name": "stdout",
     "output_type": "stream",
     "text": [
      "[LibSVM]"
     ]
    }
   ],
   "source": [
    "for i in range(0,100):\n",
    "    Xtrain,Xtest,Ytrain,Ytest=train_test_split(x_train_split[i],y_train_split[i],test_size=0.1,random_state=0)\n",
    "    model.fit(Xtrain,Ytrain)\n",
    "    print(model.score(Xtest,Ytest))"
   ]
  },
  {
   "cell_type": "code",
   "execution_count": null,
   "metadata": {},
   "outputs": [],
   "source": []
  }
 ],
 "metadata": {
  "kernelspec": {
   "display_name": "Python 3",
   "language": "python",
   "name": "python3"
  },
  "language_info": {
   "codemirror_mode": {
    "name": "ipython",
    "version": 3
   },
   "file_extension": ".py",
   "mimetype": "text/x-python",
   "name": "python",
   "nbconvert_exporter": "python",
   "pygments_lexer": "ipython3",
   "version": "3.7.3"
  }
 },
 "nbformat": 4,
 "nbformat_minor": 2
}
