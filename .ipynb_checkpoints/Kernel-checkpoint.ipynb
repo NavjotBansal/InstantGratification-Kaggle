{
 "cells": [
  {
   "cell_type": "code",
   "execution_count": 4,
   "metadata": {},
   "outputs": [],
   "source": [
    "from sklearn import svm,preprocessing\n",
    "from sklearn.model_selection import KFold\n",
    "import pandas as pd\n",
    "import numpy as np"
   ]
  },
  {
   "cell_type": "code",
   "execution_count": 21,
   "metadata": {},
   "outputs": [
    {
     "name": "stdout",
     "output_type": "stream",
     "text": [
      "(262144, 257)\n",
      "0         0\n",
      "1         0\n",
      "2         1\n",
      "3         0\n",
      "4         0\n",
      "5         1\n",
      "6         1\n",
      "7         0\n",
      "8         1\n",
      "9         0\n",
      "10        0\n",
      "11        1\n",
      "12        1\n",
      "13        0\n",
      "14        0\n",
      "15        1\n",
      "16        0\n",
      "17        0\n",
      "18        0\n",
      "19        1\n",
      "20        0\n",
      "21        1\n",
      "22        1\n",
      "23        0\n",
      "24        1\n",
      "25        0\n",
      "26        1\n",
      "27        0\n",
      "28        0\n",
      "29        1\n",
      "         ..\n",
      "262114    0\n",
      "262115    1\n",
      "262116    1\n",
      "262117    1\n",
      "262118    0\n",
      "262119    1\n",
      "262120    1\n",
      "262121    1\n",
      "262122    1\n",
      "262123    0\n",
      "262124    1\n",
      "262125    1\n",
      "262126    0\n",
      "262127    1\n",
      "262128    1\n",
      "262129    1\n",
      "262130    1\n",
      "262131    0\n",
      "262132    1\n",
      "262133    0\n",
      "262134    0\n",
      "262135    1\n",
      "262136    1\n",
      "262137    1\n",
      "262138    0\n",
      "262139    0\n",
      "262140    1\n",
      "262141    0\n",
      "262142    0\n",
      "262143    0\n",
      "Name: target, Length: 262144, dtype: int64\n"
     ]
    }
   ],
   "source": [
    "data = pd.read_csv('train.csv')\n",
    "le = preprocessing.LabelEncoder()\n",
    "le.fit(data['id'])\n",
    "transformed=le.transform(data['id'])\n",
    "x_train = data\n",
    "y_train = data['target']\n",
    "x_train = x_train.drop(['target'],axis=1)\n",
    "x_train['id']=transformed"
   ]
  },
  {
   "cell_type": "code",
   "execution_count": 19,
   "metadata": {},
   "outputs": [
    {
     "name": "stdout",
     "output_type": "stream",
     "text": [
      "(262144,)\n"
     ]
    }
   ],
   "source": [
    "from sklearn.model_selection import cross_val_score\n",
    "y_train = data['target']\n",
    "model = svm.SVC(kernel='rbf',gamma=10,C=100,verbose=1)\n",
    "#model.fit(x_train,y_train)\n",
    "from sklearn.model_selection import train_test_split\n",
    "x_train_split=np.array_split(x_train,100)\n",
    "y_train_split=np.array_split(y_train,100)"
   ]
  },
  {
   "cell_type": "code",
   "execution_count": 15,
   "metadata": {},
   "outputs": [],
   "source": [
    "Xtrain,Ytrain,Xtest,Ytest=train_test_split(x_train_split[0],y_train_split[0],test_size=0.1,random_state=0)"
   ]
  },
  {
   "cell_type": "code",
   "execution_count": 16,
   "metadata": {},
   "outputs": [
    {
     "name": "stdout",
     "output_type": "stream",
     "text": [
      "(2359, 257) (263, 257)\n"
     ]
    }
   ],
   "source": [
    "#model.fit(Xtrain,Ytrain)\n",
    "print(Xtrain.shape,Ytrain.shape)"
   ]
  },
  {
   "cell_type": "code",
   "execution_count": null,
   "metadata": {},
   "outputs": [],
   "source": []
  }
 ],
 "metadata": {
  "kernelspec": {
   "display_name": "Python 3",
   "language": "python",
   "name": "python3"
  }
 },
 "nbformat": 4,
 "nbformat_minor": 2
}
